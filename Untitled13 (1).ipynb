{
 "cells": [
  {
   "cell_type": "code",
   "execution_count": 1,
   "id": "08a4712e",
   "metadata": {},
   "outputs": [
    {
     "name": "stdout",
     "output_type": "stream",
     "text": [
      "Let me think of a number between 1 to 50: \n",
      "Choose level of difficulty ......Type 'easy' or 'hard'easy\n",
      "you have 10 remaining to guess the number\n",
      "Guess a number34\n",
      "Your guess is too high\n",
      "Guess again \n",
      "you have 9 remaining to guess the number\n",
      "Guess a number30\n",
      "Your guess is right....The answer is 30\n",
      "Guess again \n",
      "30\n"
     ]
    }
   ],
   "source": [
    "import random\n",
    "easy_attempts=10\n",
    "hard_attempts=5\n",
    "def set_difficulty(level_chosen):\n",
    "    if level_chosen=='easy':\n",
    "        return easy_attempts\n",
    "    else:\n",
    "        return hard_attempts\n",
    "def check_answer(gussed_number,answer,attempts):\n",
    "    if gussed_number<answer:\n",
    "        print(\"Your guess is too low\")\n",
    "        return attempts-1\n",
    "    elif gussed_number>answer:\n",
    "        print(\"Your guess is too high\")\n",
    "        return attempts-1\n",
    "    else:\n",
    "        print(f\"Your guess is right....The answer is {answer}\")\n",
    "print(\"Let me think of a number between 1 to 50: \");\n",
    "answer=random.randint(1,50)\n",
    "level=input(\"Choose level of difficulty ......Type 'easy' or 'hard'\")\n",
    "gussed_number=0\n",
    "attempts=set_difficulty(level)\n",
    "while gussed_number!=answer and attempts>0:\n",
    "    print(f\"you have {attempts} remaining to guess the number\")\n",
    "    gussed_number=int(input(\"Guess a number\"))\n",
    "    attempts=check_answer(gussed_number,answer,attempts)\n",
    "    if attempts==0:\n",
    "        print(\"You are out of guesses ... You lose!\")\n",
    "    else:\n",
    "        print(\"Guess again \")\n",
    "print(answer)\n"
   ]
  },
  {
   "cell_type": "code",
   "execution_count": null,
   "id": "b7e863cc",
   "metadata": {},
   "outputs": [],
   "source": []
  },
  {
   "cell_type": "code",
   "execution_count": null,
   "id": "9d71e6cd",
   "metadata": {},
   "outputs": [],
   "source": []
  }
 ],
 "metadata": {
  "kernelspec": {
   "display_name": "Python 3 (ipykernel)",
   "language": "python",
   "name": "python3"
  },
  "language_info": {
   "codemirror_mode": {
    "name": "ipython",
    "version": 3
   },
   "file_extension": ".py",
   "mimetype": "text/x-python",
   "name": "python",
   "nbconvert_exporter": "python",
   "pygments_lexer": "ipython3",
   "version": "3.9.13"
  }
 },
 "nbformat": 4,
 "nbformat_minor": 5
}
